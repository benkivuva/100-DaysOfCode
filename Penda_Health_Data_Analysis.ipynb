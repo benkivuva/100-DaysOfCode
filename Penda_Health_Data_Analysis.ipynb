{
  "nbformat": 4,
  "nbformat_minor": 0,
  "metadata": {
    "colab": {
      "provenance": [],
      "authorship_tag": "ABX9TyPFQNeb/XNyty6tmkqPyA5D",
      "include_colab_link": true
    },
    "kernelspec": {
      "name": "python3",
      "display_name": "Python 3"
    },
    "language_info": {
      "name": "python"
    }
  },
  "cells": [
    {
      "cell_type": "markdown",
      "metadata": {
        "id": "view-in-github",
        "colab_type": "text"
      },
      "source": [
        "<a href=\"https://colab.research.google.com/github/benkivuva/100-DaysOfCode/blob/main/Penda_Health_Data_Analysis.ipynb\" target=\"_parent\"><img src=\"https://colab.research.google.com/assets/colab-badge.svg\" alt=\"Open In Colab\"/></a>"
      ]
    },
    {
      "cell_type": "markdown",
      "source": [
        "# Mounting Google Drive in Colab\n",
        "The code below imports the necessary module google.colab and uses it to mount your Google Drive in Colab. The drive.mount('/content/drive') line specifically mounts your Google Drive at the '/content/drive' directory, allowing you to access and work with files stored in your Google Drive within the Colab environment."
      ],
      "metadata": {
        "id": "ewRSZxQxyf_s"
      }
    },
    {
      "cell_type": "code",
      "execution_count": 14,
      "metadata": {
        "colab": {
          "base_uri": "https://localhost:8080/"
        },
        "id": "1VCs4o8bumvj",
        "outputId": "12c81891-ac1d-4f0e-fec3-8c0e85aed680"
      },
      "outputs": [
        {
          "output_type": "stream",
          "name": "stdout",
          "text": [
            "Drive already mounted at /content/drive; to attempt to forcibly remount, call drive.mount(\"/content/drive\", force_remount=True).\n"
          ]
        }
      ],
      "source": [
        "from google.colab import drive\n",
        "drive.mount('/content/drive')"
      ]
    },
    {
      "cell_type": "markdown",
      "source": [
        "**Import Pandas and Read the Excel File**\n",
        "\n",
        "This code snippet imports the pandas library and reads an Excel file into a pandas DataFrame. The Excel file path is specified as `/content/drive/MyDrive/BI_Analyst_Assessment_Data_2023.xlsx`.\n",
        "\n",
        "By using the `pd.read_excel()` function from pandas, the contents of the Excel file are loaded into the DataFrame named `df`. The `read_excel()` function is specifically designed to read data from Excel files and convert them into tabular format.\n",
        "\n",
        "To verify the successful loading of data, the code also prints the first few rows of the DataFrame using the `head()` function, which displays the top records of the DataFrame."
      ],
      "metadata": {
        "id": "0MoR-MjRzfdm"
      }
    },
    {
      "cell_type": "code",
      "source": [
        "import pandas as pd\n",
        "\n",
        "file_path = '/content/drive/MyDrive/BI_Analyst_Assessment_Data_2023.xlsx'\n",
        "\n",
        "# Read the Excel file into a pandas DataFrame\n",
        "df = pd.read_excel(file_path)\n",
        "\n",
        "# Print the first few rows of the DataFrame\n",
        "print(df.head())"
      ],
      "metadata": {
        "colab": {
          "base_uri": "https://localhost:8080/"
        },
        "id": "QvBDOjbFxn31",
        "outputId": "e101d363-10c9-438f-8b58-65d1997ec754"
      },
      "execution_count": 24,
      "outputs": [
        {
          "output_type": "stream",
          "name": "stdout",
          "text": [
            "    VisitCode    PatientCode       Date       VisitDateTime MedicalCenter  \\\n",
            "0  XA-1124501  38af25ef-37a9 2022-05-22 2022-05-22 08:51:05        Tassia   \n",
            "1  XA-1220993  15ac7a77-8153 2022-09-07 2022-09-07 10:56:49        Tassia   \n",
            "2  XA-1079995  173f581e-c323 2022-03-24 2022-03-24 17:17:32        Tassia   \n",
            "3  XA-1188078  c464fa34-e7f2 2022-07-27 2022-07-27 05:54:02        Tassia   \n",
            "4  XA-1220192  7b8216fe-ff14 2022-09-06 2022-09-06 12:28:24        Tassia   \n",
            "\n",
            "     VisitCategory Payor  NPS Score  \n",
            "0  In-person Visit  Cash        NaN  \n",
            "1  In-person Visit  Cash        NaN  \n",
            "2  In-person Visit  Cash        NaN  \n",
            "3  In-person Visit  Cash        NaN  \n",
            "4  In-person Visit  Cash        NaN  \n"
          ]
        }
      ]
    },
    {
      "cell_type": "markdown",
      "source": [
        "**Data Cleaning: Override Invoice Amount for Insurance Visits**\n",
        "\n",
        "In this code cell, I performed data cleaning operations to override invoice amounts less than 100 for insurance visits. The data was sourced from two separate sheets: 'Invoice Tbl' and 'Visit Tbl'.\n",
        "\n",
        "First, I read the 'Invoice Tbl' sheet into a DataFrame named `invoice_df` using the `pd.read_excel()` function. Then, I merged this DataFrame with the existing DataFrame, `df` (containing the 'Visit Tbl' sheet), based on the common column 'Visit Code'.\n",
        "\n",
        "Next, I filtered the merged DataFrame to include only insurance visits by selecting rows where the 'payor' column contained either 'Insurance Company A' or 'Insurance Company B'. This filtered data was stored in the `insurance_visits` DataFrame.\n",
        "\n",
        "Finally, I modified the 'Amount' column in the `insurance_visits` DataFrame, overriding any invoice amounts less than 100 to a minimum value of 100.\n",
        "\n",
        "By performing these data cleaning steps, I ensured that the dataset now reflects the defined rule of the minimum invoice amount of 100 for insurance visits."
      ],
      "metadata": {
        "id": "pUPrrBHAA03w"
      }
    },
    {
      "cell_type": "code",
      "source": [
        "\n",
        "# Read the Invoice Tbl sheet and visit tbl into a separate DataFrames\n",
        "invoice_df = pd.read_excel(file_path, sheet_name='Invoice Tbl')\n",
        "visit_df = pd.read_excel(file_path, sheet_name='Visit Tbl')\n",
        "\n",
        "# Merge the two DataFrames on the 'Visit Code' column\n",
        "merged_df = pd.merge(df, invoice_df, on='VisitCode')\n",
        "print(merged_df.columns)\n",
        "\n",
        "# Filter data for insurance visits\n",
        "insurance_visits = merged_df[merged_df['Payor'].isin(['Insurance Company A', 'Insurance Company B'])]\n",
        "\n",
        "# Override invoice amounts less than 100 for insurance visits\n",
        "insurance_visits.loc[insurance_visits['Amount'] < 100, 'Amount'] = 100\n",
        "\n",
        "\n",
        "print(insurance_visits)  # Print the DataFrame\n"
      ],
      "metadata": {
        "colab": {
          "base_uri": "https://localhost:8080/"
        },
        "id": "ikh5JTUh3aqd",
        "outputId": "de6cae79-3fe7-4743-d1af-7c5fcaf46133"
      },
      "execution_count": 47,
      "outputs": [
        {
          "output_type": "stream",
          "name": "stderr",
          "text": [
            "/usr/local/lib/python3.10/dist-packages/openpyxl/worksheet/_reader.py:312: UserWarning: Unknown extension is not supported and will be removed\n",
            "  warn(msg)\n"
          ]
        },
        {
          "output_type": "stream",
          "name": "stdout",
          "text": [
            "Index(['VisitCode', 'PatientCode', 'Date', 'VisitDateTime', 'MedicalCenter',\n",
            "       'VisitCategory', 'Payor', 'NPS Score', 'Amount'],\n",
            "      dtype='object')\n",
            "        VisitCode    PatientCode       Date       VisitDateTime MedicalCenter  \\\n",
            "33647  XA-1174906  f2633692-cf89 2022-07-10 2022-07-10 19:00:28        Tassia   \n",
            "33648  XA-1208757  111f2f12-facd 2022-08-22 2022-08-22 12:46:22        Tassia   \n",
            "33649  XA-1133670  fa573a86-1955 2022-05-31 2022-05-31 17:14:28        Tassia   \n",
            "33650  XA-1266765  338dc007-857b 2022-10-27 2022-10-27 22:01:22        Tassia   \n",
            "33651  XA-1135950  c0679f30-1467 2022-06-02 2022-06-02 19:32:51        Tassia   \n",
            "...           ...            ...        ...                 ...           ...   \n",
            "46000  XA-1249429  152641fd-57b1 2022-10-09 2022-10-09 21:42:44      Pipeline   \n",
            "46001  XA-1148829  98a60ab5-98b6 2022-06-14 2022-06-14 09:54:49      Embakasi   \n",
            "46002  XA-1097992  019c4de2-d1cc 2022-04-19 2022-04-19 15:20:16  Lucky Summer   \n",
            "46003  XA-1097992  019c4de2-d1cc 2022-04-19 2022-04-19 15:20:16  Lucky Summer   \n",
            "46004  XA-1134520  c3171212-6331 2022-06-01 2022-06-01 14:04:32      Embakasi   \n",
            "\n",
            "         VisitCategory                Payor  NPS Score  Amount  \n",
            "33647  In-person Visit  Insurance Company B        NaN     100  \n",
            "33648  In-person Visit  Insurance Company B        NaN    3550  \n",
            "33649  In-person Visit  Insurance Company B        NaN    2981  \n",
            "33650  In-person Visit  Insurance Company B        NaN    1790  \n",
            "33651  In-person Visit  Insurance Company B        NaN    4243  \n",
            "...                ...                  ...        ...     ...  \n",
            "46000  In-person Visit  Insurance Company A        NaN    2435  \n",
            "46001  In-person Visit  Insurance Company A        NaN    1480  \n",
            "46002  In-person Visit  Insurance Company A        NaN    1280  \n",
            "46003  In-person Visit  Insurance Company A        NaN    1280  \n",
            "46004  In-person Visit  Insurance Company A        NaN    2943  \n",
            "\n",
            "[12358 rows x 9 columns]\n"
          ]
        }
      ]
    },
    {
      "cell_type": "markdown",
      "source": [
        "**Analysis of Visits at Kimathi Street and Pipeline Medical Centers (May 2022 - September 2022)**\n",
        "\n",
        "This analysis focuses on determining the number of visits received by Kimathi Street Medical Center and Pipeline Medical Center between May 2022 and September 2022. The dataset contains information about medical center visits, including the date of the visits. By filtering the data based on the specified date range and medical centers, we can calculate and compare the visit counts for each center during this period. This analysis aims to provide insights into the patient traffic and utilization of these two medical centers during the specified timeframe."
      ],
      "metadata": {
        "id": "Xvw7b9_5N9Sq"
      }
    },
    {
      "cell_type": "code",
      "source": [
        "\n",
        "# Filter the data based on the date range and medical centers\n",
        "start_date = '2022-05-01'\n",
        "end_date = '2022-09-30'\n",
        "medical_centers = ['Kimathi Street', 'Pipeline']\n",
        "\n",
        "# Filter the data based on the date range and medical centers\n",
        "filtered_df = df[(df['Date'] >= start_date) & (df['Date'] <= end_date) & (df['MedicalCenter'].isin(medical_centers))]\n",
        "\n",
        "# Count the number of visits for each medical center\n",
        "visit_counts = filtered_df['MedicalCenter'].value_counts()\n",
        "\n",
        "# Print the visit counts\n",
        "for medical_center, count in visit_counts.items():\n",
        "    print(f\"{medical_center}: {count} visits\")\n"
      ],
      "metadata": {
        "colab": {
          "base_uri": "https://localhost:8080/"
        },
        "id": "Mz5wvKTkBfze",
        "outputId": "8992ff43-850f-4585-f333-0826094dac7d"
      },
      "execution_count": 25,
      "outputs": [
        {
          "output_type": "stream",
          "name": "stdout",
          "text": [
            "Pipeline: 6043 visits\n",
            "Kimathi Street: 2161 visits\n"
          ]
        }
      ]
    },
    {
      "cell_type": "markdown",
      "source": [
        "**Analysis of Most Common Diagnosis in 2022 for Tassia and Embakasi Branches**\n",
        "\n",
        "This analysis focuses on determining the most common diagnosis in the year 2022 for the combined data of Tassia and Embakasi branches. The dataset includes two separate sheets, \"Visit Tbl\" and \"Diagnosis Tbl,\" which contain information about medical center visits and corresponding diagnoses. By merging the two DataFrames based on a common VisitCode, we establish a connection between the visit data and the corresponding diagnosis information. The analysis filters the merged data to include only the Tassia and Embakasi branches and restricts the observations to the year 2022. The diagnosis counts are then calculated, and the diagnosis with the highest occurrence is identified as the most common diagnosis. This analysis aims to provide insights into the prevalent medical conditions at Tassia and Embakasi branches during 2022, aiding in resource allocation and decision-making processes."
      ],
      "metadata": {
        "id": "c8TRL0VBVHm2"
      }
    },
    {
      "cell_type": "code",
      "source": [
        "\n",
        "# Read the Excel file into separate DataFrames for Visit Tbl and Diagnosis Tbl\n",
        "visit_df = pd.read_excel(file_path, sheet_name='Visit Tbl')\n",
        "diagnosis_df = pd.read_excel(file_path, sheet_name='Diagnosis Tbl')\n",
        "\n",
        "# Merge the visit and diagnosis dataframes based on VisitCode\n",
        "merged_df_vd = pd.merge(visit_df, diagnosis_df, on='VisitCode')\n",
        "\n",
        "# Check the column names in the merged DataFrame\n",
        "print(merged_df_vd.columns)\n",
        "\n",
        "# Filter the data for 2022 and Tassia and Embakasi branches\n",
        "filtered_df_vd = merged_df_vd[(merged_df_vd['MedicalCenter'].isin(['Tassia', 'Embakasi']))]\n",
        "\n",
        "# Count the occurrences of each diagnosis\n",
        "diagnosis_counts = filtered_df_vd['Diagnosis'].value_counts()\n",
        "\n",
        "# Get the most common diagnosis\n",
        "most_common_diagnosis = diagnosis_counts.idxmax()\n",
        "\n",
        "# Print the most common diagnosis\n",
        "print(\"The most common diagnosis in 2022 for Tassia and Embakasi branches combined was:\", most_common_diagnosis)\n",
        "\n"
      ],
      "metadata": {
        "colab": {
          "base_uri": "https://localhost:8080/"
        },
        "id": "rBieB4UOO41T",
        "outputId": "978d4f43-fc97-4159-bda9-adb6e9e5c2a0"
      },
      "execution_count": 48,
      "outputs": [
        {
          "output_type": "stream",
          "name": "stderr",
          "text": [
            "/usr/local/lib/python3.10/dist-packages/openpyxl/worksheet/_reader.py:312: UserWarning: Unknown extension is not supported and will be removed\n",
            "  warn(msg)\n"
          ]
        },
        {
          "output_type": "stream",
          "name": "stdout",
          "text": [
            "Index(['VisitCode', 'PatientCode', 'Date', 'VisitDateTime', 'MedicalCenter',\n",
            "       'VisitCategory', 'Payor', 'NPS Score', 'Diagnosis'],\n",
            "      dtype='object')\n",
            "The most common diagnosis in 2022 for Tassia and Embakasi branches combined was: acute nasopharyngitis\n"
          ]
        }
      ]
    },
    {
      "cell_type": "code",
      "source": [
        "import matplotlib.pyplot as plt\n",
        "\n",
        "# Count the occurrences of each diagnosis\n",
        "diagnosis_counts = filtered_df_vd['Diagnosis'].value_counts()\n",
        "\n",
        "# Get the top 5 diagnoses\n",
        "top_5_diagnoses = diagnosis_counts.head(5)\n",
        "\n",
        "# Create a bar plot for the top 5 diagnoses\n",
        "plt.figure(figsize=(10, 6))\n",
        "top_5_diagnoses.plot(kind='bar')\n",
        "plt.title('Top 5 Diagnoses in 2022 (Tassia and Embakasi)')\n",
        "plt.xlabel('Diagnosis')\n",
        "plt.ylabel('Count')\n",
        "plt.xticks(rotation=45)\n",
        "plt.show()"
      ],
      "metadata": {
        "id": "YBgAgAylVw94"
      },
      "execution_count": null,
      "outputs": []
    },
    {
      "cell_type": "markdown",
      "source": [
        "**Analysis of the Most Profitable Payor for Penda Health in 2022**\n",
        "\n",
        "Description: This analysis aims to determine the most profitable payor for Penda Health in 2022 by considering the revenue generated per visit and assuming a gross average margin of 30%. Using the provided DataFrame, the code filters the data for the year 2022, calculates the profit for each visit based on the revenue, groups the data by payor, and identifies the payor with the highest total profit."
      ],
      "metadata": {
        "id": "qLEc3Ii7aCQ7"
      }
    },
    {
      "cell_type": "code",
      "source": [
        "\n",
        "# Filter the data for the year 2022\n",
        "filtered_df2 = merged_df[merged_df['Date'].dt.year == 2022]\n",
        "\n",
        "# Calculate the profit for each visit based on a 30% gross margin\n",
        "filtered_df2['Profit'] = filtered_df2['Amount'] * 0.3\n",
        "\n",
        "# Group the data by payor and calculate the total profit\n",
        "profit_by_payor = filtered_df2.groupby('Payor')['Profit'].sum()\n",
        "\n",
        "# Get the most profitable payor\n",
        "most_profitable_payor = profit_by_payor.idxmax()\n",
        "\n",
        "# Print the most profitable payor\n",
        "print(\"The most profitable payor for Penda Health in 2022 was:\", most_profitable_payor)"
      ],
      "metadata": {
        "colab": {
          "base_uri": "https://localhost:8080/"
        },
        "id": "RYHJhijgV_jY",
        "outputId": "0e939974-0652-4b94-befc-0af182ab3f97"
      },
      "execution_count": 50,
      "outputs": [
        {
          "output_type": "stream",
          "name": "stdout",
          "text": [
            "The most profitable payor for Penda Health in 2022 was: Cash\n"
          ]
        }
      ]
    },
    {
      "cell_type": "markdown",
      "source": [
        "**Visualization**"
      ],
      "metadata": {
        "id": "cTbozZPKavrs"
      }
    },
    {
      "cell_type": "code",
      "source": [
        "import matplotlib.pyplot as plt\n",
        "\n",
        "# Group the data by payor and calculate the total profit\n",
        "profit_by_payor = filtered_df2.groupby('Payor')['Profit'].sum()\n",
        "\n",
        "# Create a pie chart for the profit distribution\n",
        "plt.figure(figsize=(8, 8))\n",
        "plt.pie(profit_by_payor, labels=profit_by_payor.index, autopct='%1.1f%%')\n",
        "plt.title('Profit Distribution by Payor')\n",
        "plt.axis('equal')\n",
        "plt.show()"
      ],
      "metadata": {
        "colab": {
          "base_uri": "https://localhost:8080/",
          "height": 678
        },
        "id": "3QlpHFZxag2O",
        "outputId": "d9265018-90a0-4bf9-d1d1-8e66bbd9b324"
      },
      "execution_count": 49,
      "outputs": [
        {
          "output_type": "display_data",
          "data": {
            "text/plain": [
              "<Figure size 800x800 with 1 Axes>"
            ],
            "image/png": "[encoded data removed]"
          },
          "metadata": {}
        }
      ]
    },
    {
      "cell_type": "markdown",
      "source": [
        "**Least profitable medical center**\n",
        "\n",
        "To determine the least profitable medical center in 2022, assuming a gross average margin of 30% per visit, we can calculate the profit generated by each medical center using the 'Amount' column as the revenue per visit in the DataFrame merged_df. We can also visualized it"
      ],
      "metadata": {
        "id": "hOc2jg1xfTA4"
      }
    },
    {
      "cell_type": "code",
      "source": [
        "\n",
        "# Group the data by medical center and calculate the total profit\n",
        "profit_by_medical_center = filtered_df2.groupby('MedicalCenter')['Profit'].sum()\n",
        "\n",
        "# Get the least profitable medical center\n",
        "least_profitable_medical_center = profit_by_medical_center.idxmin()\n",
        "\n",
        "# Print the least profitable medical center\n",
        "print(\"The least profitable medical center in 2022 (in absolute numbers) was:\", least_profitable_medical_center)\n",
        "\n",
        "# Sort the medical centers by profitability in ascending order\n",
        "sorted_medical_centers = profit_by_medical_center.sort_values(ascending=True)\n",
        "\n",
        "# Create a horizontal bar plot\n",
        "plt.figure(figsize=(10, 6))\n",
        "sorted_medical_centers.plot(kind='barh')\n",
        "plt.title('Profitability of Medical Centers in 2022')\n",
        "plt.xlabel('Profit')\n",
        "plt.ylabel('Medical Center')\n",
        "plt.show()\n"
      ],
      "metadata": {
        "colab": {
          "base_uri": "https://localhost:8080/",
          "height": 578
        },
        "id": "b_LVdyZqbAn8",
        "outputId": "cf9e4b4f-bcab-4480-ac62-2f4327d35ca7"
      },
      "execution_count": 38,
      "outputs": [
        {
          "output_type": "stream",
          "name": "stdout",
          "text": [
            "The least profitable medical center in 2022 (in absolute numbers) was: Call Centre\n"
          ]
        },
        {
          "output_type": "display_data",
          "data": {
            "text/plain": [
              "<Figure size 1000x600 with 1 Axes>"
            ],
            "image/png": "[encoded data removed]"
          },
          "metadata": {}
        }
      ]
    },
    {
      "cell_type": "markdown",
      "source": [
        "**Calculation of Average Spend per Visit for Acute Gastritis Diagnoses**\n",
        "\n",
        "This code merges the 'Invoice Tbl' and 'Diagnosis Table' DataFrames based on the 'VisitCode' column. It then filters the merged DataFrame to include only visits with a diagnosis of acute gastritis. The code calculates the average spend per visit by taking the mean of the 'Amount' column. Finally, it prints the average spend per visit for visits with a diagnosis of acute gastritis. This provides insights into the financial aspect of treating acute gastritis cases at Penda Health."
      ],
      "metadata": {
        "id": "YFzlKbIhvjLN"
      }
    },
    {
      "cell_type": "code",
      "source": [
        "\n",
        "# Merge the Invoice Tbl and Diagnosis Table on VisitCode\n",
        "merged_invoice_diagnosis_df = pd.merge(invoice_df, diagnosis_df, on='VisitCode')\n",
        "\n",
        "# Filter the data for visits with a diagnosis of acute gastritis\n",
        "filtered_df3 = merged_invoice_diagnosis_df[merged_invoice_diagnosis_df['Diagnosis'] == 'acute gastritis']\n",
        "\n",
        "# Calculate the average spend per visit\n",
        "average_spend_per_visit = filtered_df3['Amount'].mean()\n",
        "\n",
        "# Print the average spend per visit\n",
        "print(\"The average spend per visit for visits with a diagnosis of acute gastritis is:\", average_spend_per_visit)\n"
      ],
      "metadata": {
        "colab": {
          "base_uri": "https://localhost:8080/"
        },
        "id": "2FW4OmoPfwG1",
        "outputId": "db756624-16de-4bb9-a17d-9de714163866"
      },
      "execution_count": 51,
      "outputs": [
        {
          "output_type": "stream",
          "name": "stdout",
          "text": [
            "The average spend per visit for visits with a diagnosis of acute gastritis is: 2778.313685289595\n"
          ]
        }
      ]
    },
    {
      "cell_type": "markdown",
      "source": [
        "**Analysis of Unique Patients with Blended Healthcare Approach at Penda Health in 2022**\n",
        "\n",
        "This analysis aims to determine the number of unique patients who experienced a blended healthcare approach at Penda Health in 2022. By considering both in-person visits and telemedicine visits, the code filters the 'Visit Tbl' DataFrame for the year 2022 and visits categorized as 'In-Person Visit' or 'Telemedicine Visit'. It then calculates the count of unique patients based on their 'PatientCode' and provides the final result."
      ],
      "metadata": {
        "id": "Z3jkX-w9jloN"
      }
    },
    {
      "cell_type": "code",
      "source": [
        "# Filter the data for the year 2022 and blended healthcare visits\n",
        "filtered_df4 = visit_df[(visit_df['VisitCategory'].isin(['In-Person Visit', 'Telemedicine Visit'])) & (visit_df['Date'].dt.year == 2022)]\n",
        "\n",
        "# Get the count of unique patients\n",
        "unique_patient_count = filtered_df4['PatientCode'].nunique()\n",
        "\n",
        "# Print the number of unique patients with a blended healthcare approach\n",
        "print(\"The number of unique patients who experienced a blended healthcare approach in 2022 is:\", unique_patient_count)\n"
      ],
      "metadata": {
        "colab": {
          "base_uri": "https://localhost:8080/"
        },
        "id": "MBq3F6OYiwHu",
        "outputId": "f2f52d1c-7322-41a4-9c0b-3866bcd390d3"
      },
      "execution_count": 52,
      "outputs": [
        {
          "output_type": "stream",
          "name": "stdout",
          "text": [
            "The number of unique patients who experienced a blended healthcare approach in 2022 is: 4542\n"
          ]
        }
      ]
    },
    {
      "cell_type": "markdown",
      "source": [
        "**Calculation of Net Promoter Score (NPS) in Q3 2022**\n",
        "\n",
        "This code calculates the Net Promoter Score (NPS) for the third quarter (Q3) of 2022 based on the 'NPS Score' column in the 'Visit tbl' DataFrame. It filters the data for Q3 2022, calculates the percentage of promoters (scores 9 and 10), detractors (scores 0 to 6), and passives (scores 7 and 8), and then calculates the NPS using the formula [(promoters - detractors) / total responses] * 100. The resulting NPS score is provided as the output."
      ],
      "metadata": {
        "id": "ujUaEVpTmqcE"
      }
    },
    {
      "cell_type": "code",
      "source": [
        "# Filter the data for Q3 2022\n",
        "filtered_df5 = visit_df[(visit_df['Date'].dt.year == 2022) & (visit_df['Date'].dt.quarter == 3)]\n",
        "\n",
        "# Calculate the NPS score\n",
        "nps_score = filtered_df5['NPS Score']\n",
        "\n",
        "# Calculate the percentage of promoters, detractors, and passives\n",
        "promoters = nps_score[nps_score >= 9][nps_score <= 10].count()\n",
        "detractors = nps_score[nps_score <= 6].count()\n",
        "passives = nps_score[nps_score >= 7][nps_score <= 8].count()\n",
        "\n",
        "# Calculate the NPS\n",
        "nps = (promoters - detractors) / (promoters + detractors + passives) * 100\n",
        "\n",
        "# Print the NPS for Q3 2022\n",
        "print(\"The Net Promoter Score (NPS) for Q3 2022 is:\", nps)\n"
      ],
      "metadata": {
        "colab": {
          "base_uri": "https://localhost:8080/"
        },
        "id": "_Id1jzGMj01j",
        "outputId": "bd5f1485-f01c-407c-932f-b8d4fe9e23a9"
      },
      "execution_count": 43,
      "outputs": [
        {
          "output_type": "stream",
          "name": "stdout",
          "text": [
            "The Net Promoter Score (NPS) for Q3 2022 is: 71.27937336814621\n"
          ]
        }
      ]
    },
    {
      "cell_type": "markdown",
      "source": [
        "**Proportion of Second Visits in Penda Health during 2022**\n",
        "\n",
        "This code calculates the proportion of second visits in Penda Health during the year 2022. It starts by filtering the data for the year 2022. Then, the visits are grouped by 'PatientCode', and the number of visits per patient is counted. Next, it identifies the visits where the count is at least 2, indicating second visits. Finally, it calculates the proportion of second visits by dividing the count of second visits by the total number of unique patients and provides the result as output. This proportion helps understand the rate of returning patients in Penda Health during 2022."
      ],
      "metadata": {
        "id": "w10piazyoPYd"
      }
    },
    {
      "cell_type": "code",
      "source": [
        "# Filter the data for the year 2022\n",
        "filtered_df6 = visit_df[visit_df['Date'].dt.year == 2022]\n",
        "\n",
        "# Group the visits by PatientCode and count the number of visits per patient\n",
        "visit_counts = filtered_df6.groupby('PatientCode')['VisitCode'].count()\n",
        "\n",
        "# Filter the visits where the count is at least 2\n",
        "second_visits = visit_counts[visit_counts >= 2]\n",
        "\n",
        "# Calculate the proportion of second visits\n",
        "proportion_second_visits = len(second_visits) / len(visit_counts)\n",
        "\n",
        "# Print the proportion of second visits in 2022\n",
        "print(\"The proportion of second visits in Penda Health during 2022 is:\", proportion_second_visits)\n"
      ],
      "metadata": {
        "colab": {
          "base_uri": "https://localhost:8080/"
        },
        "id": "lfeobRGFnbK7",
        "outputId": "f7f228cf-3033-49a2-a88d-449c924156f5"
      },
      "execution_count": 44,
      "outputs": [
        {
          "output_type": "stream",
          "name": "stdout",
          "text": [
            "The proportion of second visits in Penda Health during 2022 is: 0.29289836711711714\n"
          ]
        }
      ]
    },
    {
      "cell_type": "markdown",
      "source": [
        "**Percentage of Visits within 30 Days of the Preceding Visit in April 2022**\n",
        "\n",
        "This code calculates the percentage of visits in April 2022 that occurred within 30 days of the preceding visit by the same patient. It filters the data for April 2022 and sorts the visits by patient and visit date. By calculating the time difference between consecutive visits for each patient, it identifies the visits that happened within a 30-day window of the preceding visit. Then, it calculates the count of such visits and the total number of visits in April 2022 to determine the percentage. The resulting percentage represents the rate of consecutive visits within 30 days for that month."
      ],
      "metadata": {
        "id": "_D0BxxOdqQOT"
      }
    },
    {
      "cell_type": "code",
      "source": [
        "# Filter the data for April 2022\n",
        "filtered_df7 = visit_df[(visit_df['Date'].dt.year == 2022) & (visit_df['Date'].dt.month == 4)]\n",
        "\n",
        "# Sort the data by patient and visit date\n",
        "sorted_df = filtered_df7.sort_values(by=['PatientCode', 'Date'])\n",
        "\n",
        "# Calculate the time difference between consecutive visits for each patient\n",
        "sorted_df['TimeDiff'] = sorted_df.groupby('PatientCode')['Date'].diff()\n",
        "\n",
        "# Count the number of visits within 30 days of the preceding visit\n",
        "within_30_days_count = len(sorted_df[sorted_df['TimeDiff'] <= pd.Timedelta(days=30)])\n",
        "\n",
        "# Calculate the percentage of visits within 30 days\n",
        "total_visits = len(filtered_df7)\n",
        "percent_within_30_days = (within_30_days_count / total_visits) * 100\n",
        "\n",
        "# Print the percentage of visits within 30 days in April 2022\n",
        "print(\"The percentage of visits in April 2022 within 30 days of the preceding visit by the same patient is:\", percent_within_30_days)\n"
      ],
      "metadata": {
        "colab": {
          "base_uri": "https://localhost:8080/"
        },
        "id": "VXMduXW2o2Je",
        "outputId": "dfd960d4-37d8-4734-b285-3281663a4f50"
      },
      "execution_count": 46,
      "outputs": [
        {
          "output_type": "stream",
          "name": "stdout",
          "text": [
            "The percentage of visits in April 2022 within 30 days of the preceding visit by the same patient is: 16.010916534000454\n"
          ]
        }
      ]
    }
  ]
}